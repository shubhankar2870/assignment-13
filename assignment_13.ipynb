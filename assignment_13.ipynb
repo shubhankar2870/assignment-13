{
  "nbformat": 4,
  "nbformat_minor": 0,
  "metadata": {
    "colab": {
      "provenance": []
    },
    "kernelspec": {
      "name": "python3",
      "display_name": "Python 3"
    },
    "language_info": {
      "name": "python"
    }
  },
  "cells": [
    {
      "cell_type": "code",
      "execution_count": null,
      "metadata": {
        "colab": {
          "base_uri": "https://localhost:8080/"
        },
        "id": "W1jY3ZyjsJ9d",
        "outputId": "22d9a76f-3c2a-4174-e81d-b20923383c33"
      },
      "outputs": [
        {
          "output_type": "stream",
          "name": "stdout",
          "text": [
            "element: 3, frequency: 5\n"
          ]
        }
      ],
      "source": [
        "#Problem 1.Given an array of n numbers, give an algorithm which gives the element appearing maximum number of times?\n",
        "def max_frequency(arr):\n",
        "  n = len(arr)\n",
        "  element = arr[0]\n",
        "  element_count = 0\n",
        "  for i in range(0, n):\n",
        "    curr_count = 0\n",
        "    for j in range(0, n):\n",
        "      if arr[i] == arr[j]:\n",
        "        curr_count += 1\n",
        "    if curr_count > element_count:\n",
        "      element_count = curr_count\n",
        "      element = arr[i]\n",
        "\n",
        "   print(f\"element: {element}, frequency: {element_count}\")\n",
        "\n",
        "arr = [1, 2, 1, 2, 2, 3, 1, 3, 3, 3, 3]\n",
        "max_frequency(arr)"
      ]
    },
    {
      "cell_type": "code",
      "source": [
        "#Problem 2 : We are given a list of n-1 integers and these integers are in the range of 1 to n . There are no\n",
        "#duplicates in the list. One of the integers is missing in the list. Give an algorithm to find that element Ex:\n",
        "#[1,2,4,6,3,7,8] 5 is the missing num.\n",
        "# [1, 2, 3, 4, 6, 7, 8]\n",
        "def missing_num(arr):\n",
        "  n = len(arr) + 1\n",
        "  x = sum(arr)\n",
        "  y = (n*(n+1))//2\n",
        "  return y-x\n",
        "\n",
        "arr = [1,2,4,6,3,7,8]\n",
        "print(missing_num(arr))"
      ],
      "metadata": {
        "colab": {
          "base_uri": "https://localhost:8080/"
        },
        "id": "_mCv6NosvnN9",
        "outputId": "aad88fcc-85ef-43d0-e31f-516fa296b9ec"
      },
      "execution_count": null,
      "outputs": [
        {
          "output_type": "stream",
          "name": "stdout",
          "text": [
            "5\n"
          ]
        }
      ]
    },
    {
      "cell_type": "code",
      "source": [
        "#Problem 3 : Given an array of n positive numbers. All numbers occurs even number of times except 1 which\n",
        "#occurs odd number of times. Find that number in O(n) time and O(1) space. Ex: [1,2,3,2,3,1,3]. 3 is repeats odd times.\n",
        "def odd_occurence(arr):\n",
        "  n = len(arr)\n",
        "  xor = 0\n",
        "  for i in range(n):\n",
        "    xor ^= arr[i]\n",
        "  print(f\"Number with odd occurrences: {xor}\")\n",
        "\n",
        "arr = [1,2,3,2,3,1,3]\n",
        "odd_occurence(arr)\n"
      ],
      "metadata": {
        "colab": {
          "base_uri": "https://localhost:8080/"
        },
        "id": "er0n2svYIaY1",
        "outputId": "09e6e51f-07b8-4244-8f56-6e863d39a35c"
      },
      "execution_count": null,
      "outputs": [
        {
          "output_type": "stream",
          "name": "stdout",
          "text": [
            "Number with odd occurrences: 3\n"
          ]
        }
      ]
    },
    {
      "cell_type": "code",
      "source": [
        "#Problem 4 : Given an array of n elements. Find two elements in the array such that their sum is equal to given element K.\n",
        "def two_sum(arr, k):\n",
        "  arr.sort()\n",
        "  n = len(arr)\n",
        "  left, right = 0, n-1\n",
        "  while left < right:\n",
        "    if arr[left] + arr[right] == k:\n",
        "      return f\"num1 = {arr[left]}, num2 = {arr[right]}\"\n",
        "    elif arr[left] + arr[right] > k:\n",
        "      right -= 1\n",
        "    else:\n",
        "      left += 1\n",
        "  return -1\n",
        "\n",
        "arr = [1, 5, 2, 8, 5, 10, 6]\n",
        "k = 15\n",
        "two_sum(arr, k)"
      ],
      "metadata": {
        "colab": {
          "base_uri": "https://localhost:8080/",
          "height": 36
        },
        "id": "sH9Xf7re5B3D",
        "outputId": "284adbfc-0f2a-4f08-a938-687a90dbb19f"
      },
      "execution_count": null,
      "outputs": [
        {
          "output_type": "execute_result",
          "data": {
            "text/plain": [
              "'num1 = 5, num2 = 10'"
            ],
            "application/vnd.google.colaboratory.intrinsic+json": {
              "type": "string"
            }
          },
          "metadata": {},
          "execution_count": 11
        }
      ]
    },
    {
      "cell_type": "code",
      "source": [
        "#Problem 5 : Given an array of both positive and negative numbers, find two numbers such that their sum is\n",
        "#closest to 0. Ex: [ 1 ,60 ,-10, 70, -80,85]. Ans : -80,85.\n",
        "def closest_sum_to_zero(arr):\n",
        "  arr.sort()\n",
        "  n = len(arr)\n",
        "  closest_sum = float('inf')\n",
        "  left, right = 0, n-1\n",
        "  closest_pair = None\n",
        "  while left < right:\n",
        "    curr_sum =  arr[left] + arr[right]\n",
        "    if abs(curr_sum) < abs(closest_sum):\n",
        "      closest_sum = curr_sum\n",
        "      closest_pair = (arr[left], arr[right])\n",
        "    if closest_sum < 0:\n",
        "      left += 1\n",
        "    else:\n",
        "      right -= 1\n",
        "\n",
        "  return closest_pair, closest_sum\n",
        "\n",
        "\n",
        "arr = [ 1 ,60 ,-10, 70, -80,85]\n",
        "closest_sum_to_zero(arr)\n",
        "\n"
      ],
      "metadata": {
        "colab": {
          "base_uri": "https://localhost:8080/"
        },
        "id": "bDkCDFH87bjL",
        "outputId": "cf33ddd6-3a09-4e18-e124-399ec7e5e59c"
      },
      "execution_count": null,
      "outputs": [
        {
          "output_type": "execute_result",
          "data": {
            "text/plain": [
              "((-80, 85), 5)"
            ]
          },
          "metadata": {},
          "execution_count": 7
        }
      ]
    },
    {
      "cell_type": "code",
      "source": [
        "#Problem 6: Given an array of n elements . Find three elements such that their sum is equal to the given number.\n",
        "def three_sum(arr, x):\n",
        "  n = len(arr)\n",
        "  for i in range(0, n-2):\n",
        "    for j in range(i+1, n-1):\n",
        "      for k in range(j+1, n):\n",
        "        if arr[i] + arr[j] + arr[k] == x:\n",
        "          return f\"num1 = {arr[i]}, num2 = {arr[j]}, num3 = {arr[k]}\"\n",
        "\n",
        "arr = [1, 2, 7, 4, 9, 6, 12, 19, 20, 16]\n",
        "x = 39\n",
        "print(three_sum(arr, x))"
      ],
      "metadata": {
        "colab": {
          "base_uri": "https://localhost:8080/"
        },
        "id": "S5d6FMV3N3gC",
        "outputId": "14eb3482-c25b-4893-dd6c-70eb87186dbb"
      },
      "execution_count": null,
      "outputs": [
        {
          "output_type": "stream",
          "name": "stdout",
          "text": [
            "num1 = 7, num2 = 12, num3 = 20\n"
          ]
        }
      ]
    },
    {
      "cell_type": "code",
      "source": [
        "#Problem 8 : An element is a majority if it appears more than n/2 times. Give an algorithm takes an array of n\n",
        "#element as argument and identifies a majority (if it exists).\n",
        "\n",
        "def find_majority_element(arr):\n",
        "  count = 0\n",
        "  candidate = None\n",
        "\n",
        "  for num in arr:\n",
        "    if count == 0:\n",
        "      candidate = num\n",
        "    count += (1 if num == candidate else -1)\n",
        "\n",
        "  count = 0\n",
        "  for num in arr:\n",
        "    if num == candidate:\n",
        "      count += 1\n",
        "  return candidate if count > len(arr) // 2 else None\n",
        "  return majority\n",
        "\n",
        "arr = [1, 2, 3, 2, 2, 2, 2, 1]\n",
        "print(find_majority_element(arr))"
      ],
      "metadata": {
        "colab": {
          "base_uri": "https://localhost:8080/"
        },
        "id": "OMrLnWMfxG1D",
        "outputId": "d88311a8-0669-440a-8959-e561ea668268"
      },
      "execution_count": null,
      "outputs": [
        {
          "output_type": "stream",
          "name": "stdout",
          "text": [
            "2\n"
          ]
        }
      ]
    },
    {
      "cell_type": "code",
      "source": [
        "#Problem 9 : Given n × n matrix, and in each row all 1’s are followed by 0’s. Find the row with the maximum number of 0’s.\n",
        "def max_zero(arr, n):\n",
        "    index = -1\n",
        "    min_count = n-1\n",
        "    for i in range(0, n):\n",
        "      count_row = 0\n",
        "      for j in range(0, n):\n",
        "        count_row += arr[i][j]\n",
        "      if count_row < min_count:\n",
        "        min_count = count_row\n",
        "        index = i\n",
        "    return index\n",
        "\n",
        "arr = [\n",
        "    [1, 1, 0, 0, 0],\n",
        "    [1, 1, 1, 1, 1],\n",
        "    [1, 0, 0, 0, 1],\n",
        "    [1, 1, 1, 1, 1],\n",
        "    [1, 0, 0, 0, 0]\n",
        "]\n",
        "print(max_zero(arr, 5))\n",
        "\n"
      ],
      "metadata": {
        "id": "SC-Uye62_s3-",
        "colab": {
          "base_uri": "https://localhost:8080/"
        },
        "outputId": "379ff9a5-4f4f-4348-91b1-3409545811ac"
      },
      "execution_count": 2,
      "outputs": [
        {
          "output_type": "stream",
          "name": "stdout",
          "text": [
            "4\n"
          ]
        }
      ]
    },
    {
      "cell_type": "code",
      "source": [
        "#Problem 10 : Sort an array of 0’s, 1’s and 2’s [or R’s, G’s and B’s]: Given an array A[] consisting of 0’s, 1’s and\n",
        "#2’s, give an algorithm for sorting A[].The algorithm should put all 0’s first, then all 1’s and finally all 2’s at the\n",
        "#end. Example Input = {0,0,0,0,0,2,1,2,0,0,0,1}, Output = {0,0,0,0,0,1,1,1,1,1,2,2}\n",
        "def rgb(arr):\n",
        "  n = len(arr)\n",
        "  zero_count = 0\n",
        "  one_count = 0\n",
        "  two_count = 0\n",
        "  for i in range(n):\n",
        "    if arr[i] == 0:\n",
        "      zero_count += 1\n",
        "    elif arr[i] == 1:\n",
        "      one_count += 1\n",
        "    else:\n",
        "      two_count += 1\n",
        "  pointer = 0\n",
        "  while zero_count != 0:\n",
        "    arr[pointer] = 0\n",
        "    pointer += 1\n",
        "    zero_count -= 1\n",
        "\n",
        "  while one_count != 0:\n",
        "    arr[pointer] = 1\n",
        "    pointer += 1\n",
        "    one_count -= 1\n",
        "\n",
        "  while two_count != 0:\n",
        "    arr[pointer] = 2\n",
        "    pointer += 1\n",
        "    two_count -= 1\n",
        "\n",
        "  return arr\n",
        "\n",
        "arr = [0,1,1,0,1,2,1,2,0,0,0,1]\n",
        "print(rgb(arr))\n",
        ""
      ],
      "metadata": {
        "colab": {
          "base_uri": "https://localhost:8080/"
        },
        "id": "Og6lPl0YDZC4",
        "outputId": "2e430525-40a0-4244-dbb4-155136208d15"
      },
      "execution_count": 5,
      "outputs": [
        {
          "output_type": "stream",
          "name": "stdout",
          "text": [
            "[0, 0, 0, 0, 0, 1, 1, 1, 1, 1, 2, 2]\n"
          ]
        }
      ]
    }
  ]
}